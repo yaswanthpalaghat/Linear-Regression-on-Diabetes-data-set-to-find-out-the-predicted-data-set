{
 "cells": [
  {
   "cell_type": "code",
   "execution_count": 3,
   "metadata": {},
   "outputs": [],
   "source": [
    "import numpy as np\n",
    "data_train = np.loadtxt(\"traindiabetes.csv\",dtype=None,delimiter=\",\")\n",
    "data_test = np.loadtxt(\"testdiabetes.csv\",dtype=None,delimiter=\",\")\n",
    "x = data_train[:,0:10]\n",
    "y = data_train[:,10]\n",
    "xt = data_test[:,0:10]\n",
    "\n",
    "\n",
    "\n",
    "\n",
    "\n"
   ]
  },
  {
   "cell_type": "code",
   "execution_count": 130,
   "metadata": {},
   "outputs": [],
   "source": [
    "#from sklearn import model_selection\n",
    "#x_train,x_test,y_train,y_test = model_selection.train_test_split(x,y)"
   ]
  },
  {
   "cell_type": "code",
   "execution_count": 4,
   "metadata": {},
   "outputs": [
    {
     "data": {
      "text/plain": [
       "LinearRegression(copy_X=True, fit_intercept=True, n_jobs=1, normalize=False)"
      ]
     },
     "execution_count": 4,
     "metadata": {},
     "output_type": "execute_result"
    }
   ],
   "source": [
    "from sklearn.linear_model import LinearRegression\n",
    "alg1 = LinearRegression()\n",
    "alg1.fit(x,y)"
   ]
  },
  {
   "cell_type": "code",
   "execution_count": 108,
   "metadata": {},
   "outputs": [
    {
     "data": {
      "text/plain": [
       "152.57348211512004"
      ]
     },
     "execution_count": 108,
     "metadata": {},
     "output_type": "execute_result"
    }
   ],
   "source": [
    "#alg1.coef_\n",
    "#alg1.intercept_"
   ]
  },
  {
   "cell_type": "code",
   "execution_count": 5,
   "metadata": {},
   "outputs": [
    {
     "data": {
      "text/plain": [
       "array([105.52974848, 105.80391946, 178.60857181,  79.38287806,\n",
       "        52.95868662,  98.87263865, 150.71755393,  34.86515204,\n",
       "       113.13535716, 161.50183993, 135.86156106,  94.71592177,\n",
       "       138.48094376, 141.37441685, 158.76862706, 171.65288548,\n",
       "       106.44835721, 103.92659604,  95.3869381 , 167.40118111,\n",
       "       166.53426343, 101.53464677, 252.45035909, 147.02258547,\n",
       "       214.78906591, 161.27557084, 210.61315204,  71.78091565,\n",
       "       189.65032429, 206.61342588, 219.98643445, 168.80192515,\n",
       "       116.84846075, 178.74399683,  77.03247448,  59.54633234,\n",
       "       111.56737822, 156.95186706, 154.5959131 , 198.94457469,\n",
       "       115.53883925, 153.46698998,  84.96179488, 113.70337254,\n",
       "       142.14155596, 147.31040393,  82.780724  ,  77.89237425,\n",
       "       128.99006251, 261.58712283, 213.31187712, 243.98791241,\n",
       "       167.68132166, 183.69712099, 166.85926817, 202.11440175,\n",
       "       220.39235527, 172.40287958, 176.60897878, 109.04656572,\n",
       "       276.37789808,  90.99941896, 289.37221132, 119.56253303,\n",
       "        75.45687917, 180.78598732, 146.62093128, 156.42382485,\n",
       "        41.07903549, 247.90645223, 207.99121381,  90.09641073,\n",
       "       222.24169632, 189.86377958, 182.269538  , 164.39881399,\n",
       "       190.27066619, 105.44867958, 199.86136372, 245.79638759,\n",
       "       123.20281301, 119.41031878, 145.86620345, 206.19247279,\n",
       "       150.86282538, 142.23221668, 154.56874649, 115.29233383,\n",
       "       134.07810137, 118.42225468, 203.57675536, 170.66483831,\n",
       "       127.40979737,  57.13507673, 231.92226516, 185.20713669,\n",
       "       187.37494603,  83.55920846, 185.42585688, 217.34035645,\n",
       "       108.86715356,  80.98714533, 127.05524078, 242.00738767,\n",
       "       155.97234076, 125.67575281, 246.41235682, 234.96393191,\n",
       "       191.51298181, 168.33254435, 163.02965164])"
      ]
     },
     "execution_count": 5,
     "metadata": {},
     "output_type": "execute_result"
    }
   ],
   "source": [
    "#a =alg1.score(x_test,y_test)\n",
    "#b = alg1.score(x_train,y_train)\n",
    "y_pred = alg1.predict(xt)\n",
    "np.savetxt('finalresult.csv',y_pred)\n",
    "y_pred"
   ]
  }
 ],
 "metadata": {
  "kernelspec": {
   "display_name": "Python 3",
   "language": "python",
   "name": "python3"
  },
  "language_info": {
   "codemirror_mode": {
    "name": "ipython",
    "version": 3
   },
   "file_extension": ".py",
   "mimetype": "text/x-python",
   "name": "python",
   "nbconvert_exporter": "python",
   "pygments_lexer": "ipython3",
   "version": "3.6.5"
  }
 },
 "nbformat": 4,
 "nbformat_minor": 2
}
